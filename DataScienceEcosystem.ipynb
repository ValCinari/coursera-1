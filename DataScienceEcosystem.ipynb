{
 "cells": [
  {
   "cell_type": "code",
   "execution_count": 1,
   "metadata": {},
   "outputs": [],
   "source": [
    "#Data Science Tools and Ecosystem"
   ]
  },
  {
   "cell_type": "code",
   "execution_count": null,
   "metadata": {},
   "outputs": [],
   "source": [
    "#In this notebook, Data Science Tools and Ecosystem are summarized"
   ]
  },
  {
   "cell_type": "code",
   "execution_count": 3,
   "metadata": {},
   "outputs": [],
   "source": [
    "#Some of the popular languages that Data Scientists use are:\n",
    "#Python\n",
    "#R\n",
    "#SQL\n"
   ]
  },
  {
   "cell_type": "markdown",
   "metadata": {},
   "source": [
    "| Data Science Tools |\n",
    "|--------------------|\n",
    "| Jupyter Notebook   |\n",
    "| RStudio            |\n",
    "| Apache Zeppelin    |"
   ]
  },
  {
   "cell_type": "code",
   "execution_count": 9,
   "metadata": {},
   "outputs": [],
   "source": [
    "### Below are a few examples of evaluating arithmetic expressions in Python."
   ]
  },
  {
   "cell_type": "code",
   "execution_count": 2,
   "metadata": {},
   "outputs": [
    {
     "data": {
      "text/plain": [
       "17"
      ]
     },
     "execution_count": 2,
     "metadata": {},
     "output_type": "execute_result"
    }
   ],
   "source": [
    "# This a simple arithmetic expression to mutiply then add integers\n",
    "result = (3*4)+5\n",
    "result"
   ]
  },
  {
   "cell_type": "code",
   "execution_count": 12,
   "metadata": {},
   "outputs": [
    {
     "data": {
      "text/plain": [
       "33.333333333333336"
      ]
     },
     "execution_count": 12,
     "metadata": {},
     "output_type": "execute_result"
    }
   ],
   "source": [
    "# This will convert 200 minutes to hours by dividing by 60.\n",
    "minutes = 200\n",
    "hours = minutes/6\n",
    "hours"
   ]
  },
  {
   "cell_type": "markdown",
   "metadata": {},
   "source": [
    "| **Tool**              | **Description**                                                      |\n",
    "|-----------------------|----------------------------------------------------------------------|\n",
    "| Jupyter Notebook       | An open-source web application for creating and sharing documents    |\n",
    "| RStudio               | An integrated development environment for R                          |\n",
    "| Apache Hadoop          | A framework for distributed storage and processing of large datasets |\n",
    "| Python                 | A versatile programming language widely used in data science         |\n",
    "| Apache Spark           | A unified analytics engine for large-scale data processing           |\n",
    "| Microsoft Excel        | Spreadsheet software used for data manipulation and analysis         |\n",
    "| KNIME                  | An open-source platform for data analytics and reporting             |"
   ]
  },
  {
   "cell_type": "markdown",
   "metadata": {},
   "source": [
    "### Popular Data Science Libraries\n",
    "\n",
    "- **Pandas**: A library for data manipulation and analysis, providing data structures like DataFrames.\n",
    "- **NumPy**: Fundamental package for numerical computation in Python, supporting large, multi-dimensional arrays.\n",
    "- **Matplotlib**: A plotting library used for creating static, animated, and interactive visualizations.\n",
    "- **Seaborn**: Built on top of Matplotlib, it provides a high-level interface for drawing attractive statistical graphics.\n",
    "- **Scikit-learn**: A library for machine learning, providing simple and efficient tools for data mining and analysis.\n",
    "- **TensorFlow**: An open-source platform for machine learning and deep learning tasks.\n",
    "- **Keras**: A high-level neural networks API that runs on top of TensorFlow.\n",
    "- **PyTorch**: An open-source machine learning library used for applications such as natural language processing.\n",
    "- **SciPy**: A library for scientific and technical computing, complementing NumPy with additional modules for optimization, integration, and more."
   ]
  },
  {
   "cell_type": "code",
   "execution_count": 6,
   "metadata": {},
   "outputs": [
    {
     "name": "stdout",
     "output_type": "stream",
     "text": [
      "45\n"
     ]
    }
   ],
   "source": [
    "result = (5 * 7) + 10\n",
    "print(result)"
   ]
  },
  {
   "cell_type": "markdown",
   "metadata": {},
   "source": [
    "**Objectives:**\n",
    "\n",
    "- List popular languages for Data Science.\n",
    "- Explain how to evaluate arithmetic expressions in Python.\n",
    "- Convert minutes to hours using Python.\n",
    "- Understand basic Markdown formatting for Jupyter Notebooks.\n",
    "- Demonstrate how to capture and save screenshots."
   ]
  },
  {
   "cell_type": "markdown",
   "metadata": {},
   "source": [
    "## Author\n",
    "\n",
    "[Valentina Cinari]"
   ]
  },
  {
   "cell_type": "code",
   "execution_count": null,
   "metadata": {},
   "outputs": [],
   "source": []
  }
 ],
 "metadata": {
  "kernelspec": {
   "display_name": "Python 3 (ipykernel)",
   "language": "python",
   "name": "python3"
  },
  "language_info": {
   "codemirror_mode": {
    "name": "ipython",
    "version": 3
   },
   "file_extension": ".py",
   "mimetype": "text/x-python",
   "name": "python",
   "nbconvert_exporter": "python",
   "pygments_lexer": "ipython3",
   "version": "3.12.3"
  }
 },
 "nbformat": 4,
 "nbformat_minor": 4
}
