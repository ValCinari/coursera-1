{
 "cells": [
  {
   "cell_type": "code",
   "execution_count": 5,
   "id": "60bdd08c-e5a5-4eff-9c4a-952bd8dc3272",
   "metadata": {},
   "outputs": [
    {
     "name": "stdout",
     "output_type": "stream",
     "text": [
      "Valentina\n",
      "16\n",
      "ML Expert\n"
     ]
    }
   ],
   "source": [
    "my_tuple = (1, \"hello\", 3.14) #Heterogeneous Data: Tuples can hold a mix of different data types\n",
    "#Creating a tuple\n",
    "person = (\"Valentina\", 16, \"ML Expert\")\n",
    "name = person[0]\n",
    "age = person[1]\n",
    "profession = person[2]\n",
    "print(name)\n",
    "print(age)\n",
    "print(profession)"
   ]
  },
  {
   "cell_type": "code",
   "execution_count": null,
   "id": "1a74b259-03b5-4290-ac9b-d0c4f6f080cf",
   "metadata": {},
   "outputs": [],
   "source": []
  }
 ],
 "metadata": {
  "kernelspec": {
   "display_name": "Python 3 (ipykernel)",
   "language": "python",
   "name": "python3"
  },
  "language_info": {
   "codemirror_mode": {
    "name": "ipython",
    "version": 3
   },
   "file_extension": ".py",
   "mimetype": "text/x-python",
   "name": "python",
   "nbconvert_exporter": "python",
   "pygments_lexer": "ipython3",
   "version": "3.12.3"
  }
 },
 "nbformat": 4,
 "nbformat_minor": 5
}
