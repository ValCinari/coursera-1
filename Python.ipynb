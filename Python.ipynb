{
 "cells": [
  {
   "cell_type": "markdown",
   "id": "2293365b-742c-4764-ad18-d87f385f8830",
   "metadata": {},
   "source": [
    "## Tuples in Python"
   ]
  },
  {
   "cell_type": "markdown",
   "id": "c826f4a7-afed-40fc-a3f4-29c5c9d9368d",
   "metadata": {},
   "source": [
    "In Python, a tuple is an immutable sequence type, which means that once a tuple is created, you cannot change its contents\n",
    "Tuples are defined by enclosing elements in parentheses () and separating them with commas."
   ]
  },
  {
   "cell_type": "code",
   "execution_count": 12,
   "id": "9bf6809f-1350-40f0-902c-58e6b7541a64",
   "metadata": {},
   "outputs": [
    {
     "name": "stdout",
     "output_type": "stream",
     "text": [
      "1\n",
      "(1, 'hello', 3.14, 'Music', 10)\n"
     ]
    },
    {
     "data": {
      "text/plain": [
       "('Music', 10)"
      ]
     },
     "execution_count": 12,
     "metadata": {},
     "output_type": "execute_result"
    }
   ],
   "source": [
    "mixed_tuple = (1, \"hello\", 3.14)\n",
    "print(mixed_tuple[-3])\n",
    "tuple2 = mixed_tuple +(\"Music\", 10)\n",
    "print(tuple2)\n",
    "tuple2 [0:3]\n",
    "tuple2 [3:5]"
   ]
  },
  {
   "cell_type": "code",
   "execution_count": 3,
   "id": "86492cdd-690d-43fc-a1e6-befeeafadd86",
   "metadata": {},
   "outputs": [
    {
     "name": "stdout",
     "output_type": "stream",
     "text": [
      "Valentina\n",
      "28\n",
      "ML Specialist\n"
     ]
    }
   ],
   "source": [
    "person = (\"Valentina\", 28, \"ML Specialist\")\n",
    "name = person[0]\n",
    "age = person[1]\n",
    "profession = person[2]\n",
    "print(name)\n",
    "print(age)\n",
    "print(profession)"
   ]
  },
  {
   "cell_type": "markdown",
   "id": "724e0d63-821e-4d38-9692-cd8cb0f396e2",
   "metadata": {},
   "source": [
    "## Nesting"
   ]
  },
  {
   "cell_type": "code",
   "execution_count": null,
   "id": "6e61b080-0c39-425b-a25d-f075650939be",
   "metadata": {},
   "outputs": [],
   "source": [
    "Nesting refers to placing one or more data structures inside another data structures , this can accor with various types, such as \n",
    "lists, tuples, dictinaries and functions.\n",
    "Im showing some examples"
   ]
  },
  {
   "cell_type": "code",
   "execution_count": 21,
   "id": "6337f613-546a-4cdf-ace3-1e3b4ebfab49",
   "metadata": {},
   "outputs": [
    {
     "name": "stdout",
     "output_type": "stream",
     "text": [
      "[3, 4]\n"
     ]
    }
   ],
   "source": [
    "#You can have a list within a list\n",
    "nested_list=[1,2,[3,4], 5]\n",
    "print(nested_list[2])"
   ]
  },
  {
   "cell_type": "code",
   "execution_count": 20,
   "id": "579bf713-5ef3-487f-9da4-bf1090af6ab1",
   "metadata": {},
   "outputs": [
    {
     "name": "stdout",
     "output_type": "stream",
     "text": [
      "(2, 3)\n"
     ]
    }
   ],
   "source": [
    "#Nested Tuples\n",
    "nested_tuple = (1,(2,3),4)\n",
    "print(nested_tuple[1])"
   ]
  },
  {
   "cell_type": "code",
   "execution_count": 24,
   "id": "f1b2a322-e13c-4bfe-8ccc-52cb9055ca15",
   "metadata": {},
   "outputs": [
    {
     "name": "stdout",
     "output_type": "stream",
     "text": [
      "2\n"
     ]
    }
   ],
   "source": [
    "#Nesting Dictionaries \n",
    "nested_dict = {'a': 1, 'b': {'c': 2, 'd': 3}}\n",
    "print(nested_dict[\"b\"][\"c\"])"
   ]
  },
  {
   "cell_type": "code",
   "execution_count": 26,
   "id": "e76215ab-9cbd-4325-9f88-eb71007110e0",
   "metadata": {},
   "outputs": [
    {
     "name": "stdout",
     "output_type": "stream",
     "text": [
      "Hello from inner function!\n"
     ]
    }
   ],
   "source": [
    "def outer_function():\n",
    "    def inner_function():\n",
    "        return \"Hello from inner function!\"\n",
    "    return inner_function()\n",
    "\n",
    "print(outer_function())\n",
    "        "
   ]
  },
  {
   "cell_type": "markdown",
   "id": "7d7daa41-e0e2-4ee8-81ac-4ac1942754cd",
   "metadata": {},
   "source": [
    "###Lists"
   ]
  },
  {
   "cell_type": "markdown",
   "id": "0b0f718a-2d20-4871-91ef-02aa5a20ecb6",
   "metadata": {},
   "source": [
    "## Lists"
   ]
  },
  {
   "cell_type": "code",
   "execution_count": 32,
   "id": "52d78d30-d8b0-45ae-a95c-3cf9c90ec471",
   "metadata": {},
   "outputs": [
    {
     "name": "stdout",
     "output_type": "stream",
     "text": [
      "5\n",
      "[1, 2, 3, 4]\n"
     ]
    }
   ],
   "source": [
    "#In python, the pop() method is used to remove and return an element from a list. By default, it removes the last item, but you can also specify an indexto\n",
    "# Removing the last element, if you call pop() without any arguments, it removes and returns the last elementof the list\n",
    "my_list = [1,2,3,4,5]\n",
    "last_element = my_list.pop()\n",
    "print(last_element)\n",
    "print(my_list)"
   ]
  },
  {
   "cell_type": "code",
   "execution_count": 35,
   "id": "8487a44e-9eeb-4b25-b714-e5b551299c7b",
   "metadata": {},
   "outputs": [
    {
     "name": "stdout",
     "output_type": "stream",
     "text": [
      "2\n",
      "[1, 3, 4, 5]\n"
     ]
    }
   ],
   "source": [
    "#Removing an element at a specific Index\n",
    "my_list= [1,2,3,4,5]\n",
    "second_element = my_list.pop(1)\n",
    "print(second_element)\n",
    "print(my_list)"
   ]
  },
  {
   "cell_type": "code",
   "execution_count": 45,
   "id": "27488dae-216c-42ad-993b-83053ae36db4",
   "metadata": {},
   "outputs": [
    {
     "name": "stdout",
     "output_type": "stream",
     "text": [
      "[' Vali', 'Deni', 'kuci', 'macokuci']\n",
      "[' Vali', 'Deni', 'kuci', 'macokuci', 'v', 'a', 'l']\n"
     ]
    }
   ],
   "source": [
    "#The extend() method is a convenient way to append multiple elements from an iterable to a list \n",
    "names_list = [\" Vali\", \"Deni\"]\n",
    "names_list.extend((\"kuci\", \"macokuci\"))\n",
    "print(names_list)\n",
    "names_list.extend( (\"val\") )\n",
    "print(names_list)"
   ]
  },
  {
   "cell_type": "code",
   "execution_count": 47,
   "id": "e737f1d3-25fa-463d-8b6f-1494ec2b42b1",
   "metadata": {},
   "outputs": [
    {
     "name": "stdout",
     "output_type": "stream",
     "text": [
      "[1, 2, 3, 4]\n"
     ]
    }
   ],
   "source": [
    "#The append() method in Python is used to add a single element to the end of a list.  It differs from extend() in that append() adds the entire element\n",
    "#as a single item, while extend() adds each element from an iterable individually.\n",
    "my_list = [1,2,3]\n",
    "my_list.append(4)\n",
    "print(my_list)"
   ]
  },
  {
   "cell_type": "code",
   "execution_count": 48,
   "id": "e1fe5d75-9509-4db8-bedf-3efc30672bc3",
   "metadata": {},
   "outputs": [
    {
     "name": "stdout",
     "output_type": "stream",
     "text": [
      "[1, 2, 3, 4, [5, 6]]\n"
     ]
    }
   ],
   "source": [
    "my_list.append([5, 6])\n",
    "print(my_list)"
   ]
  },
  {
   "cell_type": "code",
   "execution_count": 50,
   "id": "2e68726d-38c9-4509-a147-6a9b28798dd2",
   "metadata": {},
   "outputs": [
    {
     "name": "stdout",
     "output_type": "stream",
     "text": [
      "[1, 2, 4, 5]\n"
     ]
    }
   ],
   "source": [
    "#del statement in Python is used to delete objects. It can be used to remove variables, items from lists, slices from lists or entire dictionaries,\n",
    "my_list = [1,2,3,4,5]\n",
    "del my_list[2]\n",
    "print(my_list)"
   ]
  },
  {
   "cell_type": "code",
   "execution_count": null,
   "id": "530f3b80-3c84-47ce-965e-1fa85a82a49c",
   "metadata": {},
   "outputs": [],
   "source": []
  }
 ],
 "metadata": {
  "kernelspec": {
   "display_name": "Python 3 (ipykernel)",
   "language": "python",
   "name": "python3"
  },
  "language_info": {
   "codemirror_mode": {
    "name": "ipython",
    "version": 3
   },
   "file_extension": ".py",
   "mimetype": "text/x-python",
   "name": "python",
   "nbconvert_exporter": "python",
   "pygments_lexer": "ipython3",
   "version": "3.12.3"
  }
 },
 "nbformat": 4,
 "nbformat_minor": 5
}
