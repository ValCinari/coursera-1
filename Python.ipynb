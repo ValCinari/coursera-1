{
 "cells": [
  {
   "cell_type": "markdown",
   "id": "bec49d00-fa16-4106-bdf5-9e74361d6cb7",
   "metadata": {},
   "source": [
    "## #Tuples in Python"
   ]
  },
  {
   "cell_type": "markdown",
   "id": "c826f4a7-afed-40fc-a3f4-29c5c9d9368d",
   "metadata": {},
   "source": [
    "In Python, a tuple is an immutable sequence type, which means that once a tuple is created, you cannot change its contents\n",
    "Tuples are defined by enclosing elements in parentheses () and separating them with commas."
   ]
  },
  {
   "cell_type": "code",
   "execution_count": 12,
   "id": "9bf6809f-1350-40f0-902c-58e6b7541a64",
   "metadata": {},
   "outputs": [
    {
     "name": "stdout",
     "output_type": "stream",
     "text": [
      "1\n",
      "(1, 'hello', 3.14, 'Music', 10)\n"
     ]
    },
    {
     "data": {
      "text/plain": [
       "('Music', 10)"
      ]
     },
     "execution_count": 12,
     "metadata": {},
     "output_type": "execute_result"
    }
   ],
   "source": [
    "mixed_tuple = (1, \"hello\", 3.14)\n",
    "print(mixed_tuple[-3])\n",
    "tuple2 = mixed_tuple +(\"Music\", 10)\n",
    "print(tuple2)\n",
    "tuple2 [0:3]\n",
    "tuple2 [3:5]"
   ]
  },
  {
   "cell_type": "code",
   "execution_count": 3,
   "id": "86492cdd-690d-43fc-a1e6-befeeafadd86",
   "metadata": {},
   "outputs": [
    {
     "name": "stdout",
     "output_type": "stream",
     "text": [
      "Valentina\n",
      "28\n",
      "ML Specialist\n"
     ]
    }
   ],
   "source": [
    "person = (\"Valentina\", 28, \"ML Specialist\")\n",
    "name = person[0]\n",
    "age = person[1]\n",
    "profession = person[2]\n",
    "print(name)\n",
    "print(age)\n",
    "print(profession)"
   ]
  },
  {
   "cell_type": "markdown",
   "id": "ec77ee64-02fd-4a3d-a814-81cf2516c2a8",
   "metadata": {},
   "source": [
    "## #Nesting"
   ]
  },
  {
   "cell_type": "code",
   "execution_count": null,
   "id": "6e61b080-0c39-425b-a25d-f075650939be",
   "metadata": {},
   "outputs": [],
   "source": [
    "Nesting refers to placing one or more data structures inside another data structures , this can accor with various types, such as \n",
    "lists, tuples, dictinaries and functions.\n",
    "Im showing some examples"
   ]
  },
  {
   "cell_type": "code",
   "execution_count": 21,
   "id": "6337f613-546a-4cdf-ace3-1e3b4ebfab49",
   "metadata": {},
   "outputs": [
    {
     "name": "stdout",
     "output_type": "stream",
     "text": [
      "[3, 4]\n"
     ]
    }
   ],
   "source": [
    "#You can have a list within a list\n",
    "nested_list=[1,2,[3,4], 5]\n",
    "print(nested_list[2])"
   ]
  },
  {
   "cell_type": "code",
   "execution_count": 20,
   "id": "579bf713-5ef3-487f-9da4-bf1090af6ab1",
   "metadata": {},
   "outputs": [
    {
     "name": "stdout",
     "output_type": "stream",
     "text": [
      "(2, 3)\n"
     ]
    }
   ],
   "source": [
    "#Nested Tuples\n",
    "nested_tuple = (1,(2,3),4)\n",
    "print(nested_tuple[1])"
   ]
  },
  {
   "cell_type": "code",
   "execution_count": 24,
   "id": "f1b2a322-e13c-4bfe-8ccc-52cb9055ca15",
   "metadata": {},
   "outputs": [
    {
     "name": "stdout",
     "output_type": "stream",
     "text": [
      "2\n"
     ]
    }
   ],
   "source": [
    "#Nesting Dictionaries \n",
    "nested_dict = {'a': 1, 'b': {'c': 2, 'd': 3}}\n",
    "print(nested_dict[\"b\"][\"c\"])"
   ]
  },
  {
   "cell_type": "code",
   "execution_count": 26,
   "id": "e76215ab-9cbd-4325-9f88-eb71007110e0",
   "metadata": {},
   "outputs": [
    {
     "name": "stdout",
     "output_type": "stream",
     "text": [
      "Hello from inner function!\n"
     ]
    }
   ],
   "source": [
    "def outer_function():\n",
    "    def inner_function():\n",
    "        return \"Hello from inner function!\"\n",
    "    return inner_function()\n",
    "\n",
    "print(outer_function())\n",
    "        "
   ]
  },
  {
   "cell_type": "code",
   "execution_count": null,
   "id": "a8cb9712-2fe0-4e89-a7d4-3bc28093d08f",
   "metadata": {},
   "outputs": [],
   "source": []
  }
 ],
 "metadata": {
  "kernelspec": {
   "display_name": "Python 3 (ipykernel)",
   "language": "python",
   "name": "python3"
  },
  "language_info": {
   "codemirror_mode": {
    "name": "ipython",
    "version": 3
   },
   "file_extension": ".py",
   "mimetype": "text/x-python",
   "name": "python",
   "nbconvert_exporter": "python",
   "pygments_lexer": "ipython3",
   "version": "3.12.3"
  }
 },
 "nbformat": 4,
 "nbformat_minor": 5
}
