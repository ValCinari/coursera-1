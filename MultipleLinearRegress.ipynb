{
 "cells": [
  {
   "cell_type": "markdown",
   "id": "44b81d31-6efc-4ac0-af84-c17c786f8c84",
   "metadata": {},
   "source": [
    "Multiple Linear Regression\n",
    "Here we will be able to use scikit learn to implement Multiple Linear regression\n",
    "And to create a mode, to train, test it, and use the model"
   ]
  },
  {
   "cell_type": "code",
   "execution_count": 6,
   "id": "be6dc5d3-e5dc-4e85-9eeb-8d5e2cc0f7a3",
   "metadata": {},
   "outputs": [],
   "source": [
    "import matplotlib.pyplot as plt #create visualization like charts and graphs\n",
    "import pandas as pd             # powerful data manipulation library\n",
    "import pylab as pl              # combines matplotlib and numpy func, if you use matplotlib directly is not needed\n",
    "import numpy as np              # a library for numerical operations, using np as an alias\n",
    "%matplotlib inline              \n",
    "# A magic command only for Jupyter notebooks that enables inline plotting, displaying plots directly in the notebooks"
   ]
  },
  {
   "cell_type": "markdown",
   "id": "1d656e7e-ec79-4171-b6a8-c9280330f525",
   "metadata": {},
   "source": [
    "To download the data, we will use !wget to download it from IBM Object Storage"
   ]
  },
  {
   "cell_type": "code",
   "execution_count": 10,
   "id": "123a2057-f826-4c54-81d5-1b7ce8cdcd08",
   "metadata": {},
   "outputs": [
    {
     "name": "stderr",
     "output_type": "stream",
     "text": [
      "  % Total    % Received % Xferd  Average Speed   Time    Time     Time  Current\n",
      "                                 Dload  Upload   Total   Spent    Left  Speed\n",
      "\n",
      "  0     0    0     0    0     0      0      0 --:--:-- --:--:-- --:--:--     0\n",
      "  0     0    0     0    0     0      0      0 --:--:-- --:--:-- --:--:--     0\n",
      "  0     0    0     0    0     0      0      0 --:--:--  0:00:01 --:--:--     0\n",
      "100 72629  100 72629    0     0  35350      0  0:00:02  0:00:02 --:--:-- 35463\n"
     ]
    }
   ],
   "source": [
    "!curl -o FuelConsumption.csv https://cf-courses-data.s3.us.cloud-object-storage.appdomain.cloud/IBMDeveloperSkillsNetwork-ML0101EN-SkillsNetwork/labs/Module%202/data/FuelConsumptionCo2.csv"
   ]
  },
  {
   "cell_type": "markdown",
   "id": "721a2421-bbaf-4f2b-9bc6-a7d0ab40e862",
   "metadata": {},
   "source": [
    "we have downloaded a fuel consumption dataset, which contains model- specific fuel consumption ratings and estimated carbon dioxide emissions\n",
    "for new light duty vehicles for retail sale in Canada.\n",
    "MODELYEAR e.g. 2014\n",
    "MAKE e.g. Acura\n",
    "MODEL e.g. ILX\n",
    "VEHICLE CLASS e.g. SUV\n",
    "ENGINE SIZE e.g. 4.7\n",
    "CYLINDERS e.g 6\n",
    "TRANSMISSION e.g. A6\n",
    "FUELTYPE e.g. z\n",
    "FUEL CONSUMPTION in CITY(L/100 km) e.g. 9.9\n",
    "FUEL CONSUMPTION in HWY (L/100 km) e.g. 8.9\n",
    "FUEL CONSUMPTION COMB (L/100 km) e.g. 9.2\n",
    "CO2 EMISSIONS (g/km) e.g. 182 --> low --> 0"
   ]
  },
  {
   "cell_type": "code",
   "execution_count": 12,
   "id": "a78d7fd5-c44d-4d3f-81c4-c452d065f76c",
   "metadata": {},
   "outputs": [
    {
     "data": {
      "text/html": [
       "<div>\n",
       "<style scoped>\n",
       "    .dataframe tbody tr th:only-of-type {\n",
       "        vertical-align: middle;\n",
       "    }\n",
       "\n",
       "    .dataframe tbody tr th {\n",
       "        vertical-align: top;\n",
       "    }\n",
       "\n",
       "    .dataframe thead th {\n",
       "        text-align: right;\n",
       "    }\n",
       "</style>\n",
       "<table border=\"1\" class=\"dataframe\">\n",
       "  <thead>\n",
       "    <tr style=\"text-align: right;\">\n",
       "      <th></th>\n",
       "      <th>MODELYEAR</th>\n",
       "      <th>MAKE</th>\n",
       "      <th>MODEL</th>\n",
       "      <th>VEHICLECLASS</th>\n",
       "      <th>ENGINESIZE</th>\n",
       "      <th>CYLINDERS</th>\n",
       "      <th>TRANSMISSION</th>\n",
       "      <th>FUELTYPE</th>\n",
       "      <th>FUELCONSUMPTION_CITY</th>\n",
       "      <th>FUELCONSUMPTION_HWY</th>\n",
       "      <th>FUELCONSUMPTION_COMB</th>\n",
       "      <th>FUELCONSUMPTION_COMB_MPG</th>\n",
       "      <th>CO2EMISSIONS</th>\n",
       "    </tr>\n",
       "  </thead>\n",
       "  <tbody>\n",
       "    <tr>\n",
       "      <th>0</th>\n",
       "      <td>2014</td>\n",
       "      <td>ACURA</td>\n",
       "      <td>ILX</td>\n",
       "      <td>COMPACT</td>\n",
       "      <td>2.0</td>\n",
       "      <td>4</td>\n",
       "      <td>AS5</td>\n",
       "      <td>Z</td>\n",
       "      <td>9.9</td>\n",
       "      <td>6.7</td>\n",
       "      <td>8.5</td>\n",
       "      <td>33</td>\n",
       "      <td>196</td>\n",
       "    </tr>\n",
       "    <tr>\n",
       "      <th>1</th>\n",
       "      <td>2014</td>\n",
       "      <td>ACURA</td>\n",
       "      <td>ILX</td>\n",
       "      <td>COMPACT</td>\n",
       "      <td>2.4</td>\n",
       "      <td>4</td>\n",
       "      <td>M6</td>\n",
       "      <td>Z</td>\n",
       "      <td>11.2</td>\n",
       "      <td>7.7</td>\n",
       "      <td>9.6</td>\n",
       "      <td>29</td>\n",
       "      <td>221</td>\n",
       "    </tr>\n",
       "    <tr>\n",
       "      <th>2</th>\n",
       "      <td>2014</td>\n",
       "      <td>ACURA</td>\n",
       "      <td>ILX HYBRID</td>\n",
       "      <td>COMPACT</td>\n",
       "      <td>1.5</td>\n",
       "      <td>4</td>\n",
       "      <td>AV7</td>\n",
       "      <td>Z</td>\n",
       "      <td>6.0</td>\n",
       "      <td>5.8</td>\n",
       "      <td>5.9</td>\n",
       "      <td>48</td>\n",
       "      <td>136</td>\n",
       "    </tr>\n",
       "    <tr>\n",
       "      <th>3</th>\n",
       "      <td>2014</td>\n",
       "      <td>ACURA</td>\n",
       "      <td>MDX 4WD</td>\n",
       "      <td>SUV - SMALL</td>\n",
       "      <td>3.5</td>\n",
       "      <td>6</td>\n",
       "      <td>AS6</td>\n",
       "      <td>Z</td>\n",
       "      <td>12.7</td>\n",
       "      <td>9.1</td>\n",
       "      <td>11.1</td>\n",
       "      <td>25</td>\n",
       "      <td>255</td>\n",
       "    </tr>\n",
       "    <tr>\n",
       "      <th>4</th>\n",
       "      <td>2014</td>\n",
       "      <td>ACURA</td>\n",
       "      <td>RDX AWD</td>\n",
       "      <td>SUV - SMALL</td>\n",
       "      <td>3.5</td>\n",
       "      <td>6</td>\n",
       "      <td>AS6</td>\n",
       "      <td>Z</td>\n",
       "      <td>12.1</td>\n",
       "      <td>8.7</td>\n",
       "      <td>10.6</td>\n",
       "      <td>27</td>\n",
       "      <td>244</td>\n",
       "    </tr>\n",
       "  </tbody>\n",
       "</table>\n",
       "</div>"
      ],
      "text/plain": [
       "   MODELYEAR   MAKE       MODEL VEHICLECLASS  ENGINESIZE  CYLINDERS  \\\n",
       "0       2014  ACURA         ILX      COMPACT         2.0          4   \n",
       "1       2014  ACURA         ILX      COMPACT         2.4          4   \n",
       "2       2014  ACURA  ILX HYBRID      COMPACT         1.5          4   \n",
       "3       2014  ACURA     MDX 4WD  SUV - SMALL         3.5          6   \n",
       "4       2014  ACURA     RDX AWD  SUV - SMALL         3.5          6   \n",
       "\n",
       "  TRANSMISSION FUELTYPE  FUELCONSUMPTION_CITY  FUELCONSUMPTION_HWY  \\\n",
       "0          AS5        Z                   9.9                  6.7   \n",
       "1           M6        Z                  11.2                  7.7   \n",
       "2          AV7        Z                   6.0                  5.8   \n",
       "3          AS6        Z                  12.7                  9.1   \n",
       "4          AS6        Z                  12.1                  8.7   \n",
       "\n",
       "   FUELCONSUMPTION_COMB  FUELCONSUMPTION_COMB_MPG  CO2EMISSIONS  \n",
       "0                   8.5                        33           196  \n",
       "1                   9.6                        29           221  \n",
       "2                   5.9                        48           136  \n",
       "3                  11.1                        25           255  \n",
       "4                  10.6                        27           244  "
      ]
     },
     "execution_count": 12,
     "metadata": {},
     "output_type": "execute_result"
    }
   ],
   "source": [
    "df = pd.read_csv(\"FuelConsumption.csv\")   #this line reads data from a CSV file \n",
    "df.head()"
   ]
  },
  {
   "cell_type": "code",
   "execution_count": 15,
   "id": "7b551891-2e47-4abb-887d-3e068db8e2ba",
   "metadata": {},
   "outputs": [
    {
     "data": {
      "text/html": [
       "<div>\n",
       "<style scoped>\n",
       "    .dataframe tbody tr th:only-of-type {\n",
       "        vertical-align: middle;\n",
       "    }\n",
       "\n",
       "    .dataframe tbody tr th {\n",
       "        vertical-align: top;\n",
       "    }\n",
       "\n",
       "    .dataframe thead th {\n",
       "        text-align: right;\n",
       "    }\n",
       "</style>\n",
       "<table border=\"1\" class=\"dataframe\">\n",
       "  <thead>\n",
       "    <tr style=\"text-align: right;\">\n",
       "      <th></th>\n",
       "      <th>ENGINESIZE</th>\n",
       "      <th>CYLINDERS</th>\n",
       "      <th>FUELCONSUMPTION_CITY</th>\n",
       "      <th>FUELCONSUMPTION_HWY</th>\n",
       "      <th>FUELCONSUMPTION_COMB</th>\n",
       "      <th>CO2EMISSIONS</th>\n",
       "    </tr>\n",
       "  </thead>\n",
       "  <tbody>\n",
       "    <tr>\n",
       "      <th>0</th>\n",
       "      <td>2.0</td>\n",
       "      <td>4</td>\n",
       "      <td>9.9</td>\n",
       "      <td>6.7</td>\n",
       "      <td>8.5</td>\n",
       "      <td>196</td>\n",
       "    </tr>\n",
       "    <tr>\n",
       "      <th>1</th>\n",
       "      <td>2.4</td>\n",
       "      <td>4</td>\n",
       "      <td>11.2</td>\n",
       "      <td>7.7</td>\n",
       "      <td>9.6</td>\n",
       "      <td>221</td>\n",
       "    </tr>\n",
       "    <tr>\n",
       "      <th>2</th>\n",
       "      <td>1.5</td>\n",
       "      <td>4</td>\n",
       "      <td>6.0</td>\n",
       "      <td>5.8</td>\n",
       "      <td>5.9</td>\n",
       "      <td>136</td>\n",
       "    </tr>\n",
       "    <tr>\n",
       "      <th>3</th>\n",
       "      <td>3.5</td>\n",
       "      <td>6</td>\n",
       "      <td>12.7</td>\n",
       "      <td>9.1</td>\n",
       "      <td>11.1</td>\n",
       "      <td>255</td>\n",
       "    </tr>\n",
       "    <tr>\n",
       "      <th>4</th>\n",
       "      <td>3.5</td>\n",
       "      <td>6</td>\n",
       "      <td>12.1</td>\n",
       "      <td>8.7</td>\n",
       "      <td>10.6</td>\n",
       "      <td>244</td>\n",
       "    </tr>\n",
       "    <tr>\n",
       "      <th>5</th>\n",
       "      <td>3.5</td>\n",
       "      <td>6</td>\n",
       "      <td>11.9</td>\n",
       "      <td>7.7</td>\n",
       "      <td>10.0</td>\n",
       "      <td>230</td>\n",
       "    </tr>\n",
       "    <tr>\n",
       "      <th>6</th>\n",
       "      <td>3.5</td>\n",
       "      <td>6</td>\n",
       "      <td>11.8</td>\n",
       "      <td>8.1</td>\n",
       "      <td>10.1</td>\n",
       "      <td>232</td>\n",
       "    </tr>\n",
       "    <tr>\n",
       "      <th>7</th>\n",
       "      <td>3.7</td>\n",
       "      <td>6</td>\n",
       "      <td>12.8</td>\n",
       "      <td>9.0</td>\n",
       "      <td>11.1</td>\n",
       "      <td>255</td>\n",
       "    </tr>\n",
       "    <tr>\n",
       "      <th>8</th>\n",
       "      <td>3.7</td>\n",
       "      <td>6</td>\n",
       "      <td>13.4</td>\n",
       "      <td>9.5</td>\n",
       "      <td>11.6</td>\n",
       "      <td>267</td>\n",
       "    </tr>\n",
       "  </tbody>\n",
       "</table>\n",
       "</div>"
      ],
      "text/plain": [
       "   ENGINESIZE  CYLINDERS  FUELCONSUMPTION_CITY  FUELCONSUMPTION_HWY  \\\n",
       "0         2.0          4                   9.9                  6.7   \n",
       "1         2.4          4                  11.2                  7.7   \n",
       "2         1.5          4                   6.0                  5.8   \n",
       "3         3.5          6                  12.7                  9.1   \n",
       "4         3.5          6                  12.1                  8.7   \n",
       "5         3.5          6                  11.9                  7.7   \n",
       "6         3.5          6                  11.8                  8.1   \n",
       "7         3.7          6                  12.8                  9.0   \n",
       "8         3.7          6                  13.4                  9.5   \n",
       "\n",
       "   FUELCONSUMPTION_COMB  CO2EMISSIONS  \n",
       "0                   8.5           196  \n",
       "1                   9.6           221  \n",
       "2                   5.9           136  \n",
       "3                  11.1           255  \n",
       "4                  10.6           244  \n",
       "5                  10.0           230  \n",
       "6                  10.1           232  \n",
       "7                  11.1           255  \n",
       "8                  11.6           267  "
      ]
     },
     "execution_count": 15,
     "metadata": {},
     "output_type": "execute_result"
    }
   ],
   "source": [
    "#Lets select some features that we want to use for regression\n",
    "cdf = df[['ENGINESIZE','CYLINDERS','FUELCONSUMPTION_CITY','FUELCONSUMPTION_HWY','FUELCONSUMPTION_COMB','CO2EMISSIONS']]\n",
    "cdf.head(9) #this line created a new DataFrame names cfd that contains only e subset of columns from the original DataFrame df."
   ]
  },
  {
   "cell_type": "code",
   "execution_count": 16,
   "id": "7ffab040-ee7b-4c78-b8de-207df61b66f5",
   "metadata": {},
   "outputs": [
    {
     "data": {
      "image/png": "[encoded data removed]",
      "text/plain": [
       "<Figure size 640x480 with 1 Axes>"
      ]
     },
     "metadata": {},
     "output_type": "display_data"
    }
   ],
   "source": [
    "plt.scatter(cdf.ENGINESIZE, cdf.CO2EMISSIONS,  color='blue') #this func generates a scatter plot\n",
    "plt.xlabel(\"Engine size\")                                    # this line sets the label for the x-axis of the plot as \"engine size\"\n",
    "plt.ylabel(\"Emission\")\n",
    "plt.show()"
   ]
  },
  {
   "cell_type": "code",
   "execution_count": null,
   "id": "a55cf576-dfbc-4533-aad7-4f6eef2694b1",
   "metadata": {},
   "outputs": [],
   "source": [
    "Creating train and test dataset \n",
    "Train/test involves splitting the dataset into training and testing sets respectively, which are mutually exlusive. Ater which you train with the training\n",
    "set and test with the testing set, This will provide a more accurate evaluation on out-of-sample accuracu because the testing dataset is not part of the \n",
    "dataset that has been used to train the model. Therefore it gives us a better understanding of how well our model generalizes on new data."
   ]
  },
  {
   "cell_type": "code",
   "execution_count": 19,
   "id": "54a835c7-8507-43de-a904-784849a6c07f",
   "metadata": {},
   "outputs": [],
   "source": [
    "msk = np.random.rand(len(df)) < 0.8 #this generates an array of random numbers between 0 and 1, with the same lengsh as the number of rows in the DataFrame\n",
    "train = cdf[msk]                     # < 0,8 this compares each nr to 0,8, if the randon nr is less than 0,8 the condition returns True, otherwise false\n",
    "test = cdf [msk]"
   ]
  },
  {
   "cell_type": "markdown",
   "id": "51b5ac11-754a-4fab-b537-96c159c6c84a",
   "metadata": {},
   "source": [
    "Train Data Distribution"
   ]
  },
  {
   "cell_type": "code",
   "execution_count": 21,
   "id": "2fd7dd63-b53c-474b-b27c-2f453c6ec56c",
   "metadata": {},
   "outputs": [
    {
     "data": {
      "image/png": "[encoded data removed]",
      "text/plain": [
       "<Figure size 640x480 with 1 Axes>"
      ]
     },
     "metadata": {},
     "output_type": "display_data"
    }
   ],
   "source": [
    "plt.scatter(train.ENGINESIZE, train.CO2EMISSIONS, color = \"orange\")\n",
    "plt.xlabel(\"Engine size\")\n",
    "plt.ylabel(\"Emission\")\n",
    "plt.show()"
   ]
  },
  {
   "cell_type": "markdown",
   "id": "dcafd993-97eb-4b8d-9b85-0de1567873ca",
   "metadata": {},
   "source": [
    "Multiple regression Model\n",
    "In reality, there are multiple varibles that impact the co2emission. When more than one independent varible is present, the process is called Multiple LR\n",
    "An example of multiple Linear regression is predicting co2emission using the features  FUELCONSUMPTION_COMB, EngineSize and Cylinders of cars. \n",
    "The good thing here is that multiple linear regression model is the extension of the simple linear regression model.\n"
   ]
  },
  {
   "cell_type": "code",
   "execution_count": 24,
   "id": "b93493ff-0a34-485b-aeee-7fb8959e9536",
   "metadata": {},
   "outputs": [
    {
     "name": "stdout",
     "output_type": "stream",
     "text": [
      "Coefficients:  [[10.68728571  6.90065834 10.32689926]]\n"
     ]
    }
   ],
   "source": [
    "#This code is implementing a multiple linear regression model using the LinearRegression class from the sklearn(scikit-learn)library \n",
    "from sklearn import linear_model\n",
    "regr = linear_model.LinearRegression()\n",
    "x = np.asanyarray(train[['ENGINESIZE','CYLINDERS','FUELCONSUMPTION_COMB']])\n",
    "y = np.asanyarray(train[['CO2EMISSIONS']])\n",
    "regr.fit (x, y)\n",
    "# The coefficients\n",
    "print ('Coefficients: ', regr.coef_)"
   ]
  },
  {
   "cell_type": "markdown",
   "id": "6ffe4d2e-aec1-43f1-8df6-1e1fb7ba5ebf",
   "metadata": {},
   "source": [
    "10.68728571- ENGINE SIZE, for each unit increase in engine size, CO2 emissions are expected to increase by approx 10,69units, assuming other features\n",
    "remain constrant.\n",
    "This means vehicles with larger engines tend to produce more CO2 emissions\n",
    "6.90065834 - CYLINDERS , for each additional cylinder in the engine, CO2 emissions are expected to increase by about 6,9 units, assuming engine size\n",
    "and fuel consumption stay the same.\n",
    "10.32689926- FUEL CONSUMPTION This shows that higher fuel consumption leads to more CO2 emissions, which makes sense since vehicles that burn \n",
    "more fuel produce more emissions"
   ]
  },
  {
   "cell_type": "markdown",
   "id": "eddf1dd0-47c6-41ff-a9c0-bb8d7795a395",
   "metadata": {},
   "source": [
    "As mentioned before, Coefficient and Intercept are the parameters of the fitted line. Given that it is a multiple linear regression model with 3 \n",
    "parameters and that the parameters are the intercept and coefficients of the hyperplane, sklearn can estimate them from our data. \n",
    "Scikit-learn uses plain Ordinary Least Squares method to solve this problem."
   ]
  },
  {
   "cell_type": "code",
   "execution_count": 26,
   "id": "491d2068-dd96-4f68-9c37-36a46620d9bd",
   "metadata": {},
   "outputs": [
    {
     "name": "stdout",
     "output_type": "stream",
     "text": [
      "Mean Squared Error (MSE) : 542.89\n",
      "Variance score: 0.87\n"
     ]
    },
    {
     "name": "stderr",
     "output_type": "stream",
     "text": [
      "C:\\Users\\Valentina\\AppData\\Roaming\\Python\\Python312\\site-packages\\sklearn\\base.py:486: UserWarning: X has feature names, but LinearRegression was fitted without feature names\n",
      "  warnings.warn(\n"
     ]
    }
   ],
   "source": [
    "y_hat= regr.predict(test[['ENGINESIZE','CYLINDERS','FUELCONSUMPTION_COMB']])\n",
    "x = np.asanyarray(test[['ENGINESIZE','CYLINDERS','FUELCONSUMPTION_COMB']])\n",
    "y = np.asanyarray(test[['CO2EMISSIONS']])\n",
    "print(\"Mean Squared Error (MSE) : %.2f\"\n",
    "      % np.mean((y_hat - y) ** 2))\n",
    "\n",
    "# Explained variance score: 1 is perfect prediction\n",
    "print('Variance score: %.2f' % regr.score(x, y))"
   ]
  },
  {
   "cell_type": "markdown",
   "id": "cea97f11-c311-4809-96b1-6732d25611b6",
   "metadata": {},
   "source": [
    "MSE- measures the average of the squared differences between the actual value (y) and the predicted value (y_hat)\n",
    "in our case MSE  of 542,89 means an overage,  the suqare of the difference between the predicted CO2 emissions and the actual CO2 emissions is 154,89\n",
    "units . An MSE of 542.89 indicates some error between the predictions and the actual values, but without a baseline or comparison, \n",
    "it's hard to say if this is a \"good\" or \"bad\" result. Lower values are better"
   ]
  },
  {
   "cell_type": "markdown",
   "id": "06133528-6951-4340-8839-6287f8a5fe7c",
   "metadata": {},
   "source": [
    "Variance Score (R² Score): 0.87  (R²), also known as the coefficient of determination, measures how well the independent variables\n",
    "(engine size, cylinders, fuel consumption) explain the variability of the dependent variable (CO2 emissions).\n",
    "A variance score of 0.87 means that 87% of the variability in CO2 emissions can be explained by the independent variables (engine size, cylinders, and fuel consumption).\n",
    "This is a strong result, suggesting the model has done a good job of capturing the relationship between the features and CO2 emissions.\n",
    "There is still 13% of the variability that the model cannot explain, which might be due to factors not included in the model or inherent randomness in the data."
   ]
  }
 ],
 "metadata": {
  "kernelspec": {
   "display_name": "Python 3 (ipykernel)",
   "language": "python",
   "name": "python3"
  },
  "language_info": {
   "codemirror_mode": {
    "name": "ipython",
    "version": 3
   },
   "file_extension": ".py",
   "mimetype": "text/x-python",
   "name": "python",
   "nbconvert_exporter": "python",
   "pygments_lexer": "ipython3",
   "version": "3.12.3"
  }
 },
 "nbformat": 4,
 "nbformat_minor": 5
}
